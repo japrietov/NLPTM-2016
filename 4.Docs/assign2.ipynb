{
 "cells": [
  {
   "cell_type": "markdown",
   "metadata": {},
   "source": [
    "# NLP and TM Módulo 4 \n",
    "## Taller 2: recurrent neural networks\n",
    "\n",
    "**Nombres:**\n"
   ]
  },
  {
   "cell_type": "markdown",
   "metadata": {},
   "source": [
    "Cargue el modelo de RNN entrenado con la Biblia: https://github.com/lin99/NLPTM-2016/blob/gh-pages/4.Docs/grnn_best.tar"
   ]
  },
  {
   "cell_type": "markdown",
   "metadata": {},
   "source": [
    "### 1. Calculando la siguiente palabra más probable\n",
    "\n",
    "Construya una función que calcule la palabra, que con alta probailidad, puede seguir a otra. Formalmente, dada una palabra $w_i$ se debe calcular $w_{i+1}$: \n",
    "\n",
    "$$ w_{i+1} = \\arg \\max_{w_{i+1}} P(w_{i+1}|w_i) $$\n",
    "\n"
   ]
  },
  {
   "cell_type": "code",
   "execution_count": 3,
   "metadata": {
    "collapsed": true
   },
   "outputs": [],
   "source": [
    "def next_word(word):\n",
    "    # Su código aquí\n",
    "    return ''"
   ]
  },
  {
   "cell_type": "markdown",
   "metadata": {},
   "source": [
    "Explique claramente como es su estrategia. Pruebe la función con diferentes ejemplos. Discuta los resultados."
   ]
  },
  {
   "cell_type": "markdown",
   "metadata": {},
   "source": [
    "### 2. Jugando al ahorcado\n",
    "\n",
    "Diseñe una función que sea capaz de encontrar los caracteres faltantes en una palabra. La función deber funcionar de la siguiente manera:\n",
    "\n",
    "```\n",
    ">>> hangman('_al_br_')\n",
    "'palabra'\n",
    "\n",
    ">>> hangman('_erp__nt_')\n",
    "'serpiente'\n",
    "```"
   ]
  },
  {
   "cell_type": "code",
   "execution_count": 4,
   "metadata": {
    "collapsed": false
   },
   "outputs": [],
   "source": [
    "def hangman(word):\n",
    "    ### Su código debe ir aquí\n",
    "    return ''"
   ]
  },
  {
   "cell_type": "markdown",
   "metadata": {},
   "source": [
    "Explique claramente como es su estrategia. Pruebe la función con diferentes ejemplos. Discuta los resultados."
   ]
  },
  {
   "cell_type": "markdown",
   "metadata": {},
   "source": [
    "### 3. Probando un modelo alternativo\n",
    "\n",
    "Cargue el modelo de RNN entrenado con un conjunto de datos alternativo: https://github.com/lin99/NLPTM-2016/blob/gh-pages/4.Docs/reg1_best.tar.\n",
    "\n",
    "Genere texto con el modelo y trate de determinar con qué tipo de datos se entrenó originalmente el modelo.\n",
    "\n",
    "Pruebe las funciones del punto 1 y 2 con el nuevo modelo. Discuta los resultados. "
   ]
  },
  {
   "cell_type": "markdown",
   "metadata": {
    "collapsed": true
   },
   "source": [
    "**Nota:** no olvide incluir los nombres de los integrantes del grupo (máximo 2) en el encabezado del notebook. Remita el notebook al siguiente *file request* de Dropbox: https://www.dropbox.com/request/k4GFiKHjl8OuE9sCiq1N."
   ]
  }
 ],
 "metadata": {
  "kernelspec": {
   "display_name": "Python 2",
   "language": "python",
   "name": "python2"
  },
  "language_info": {
   "codemirror_mode": {
    "name": "ipython",
    "version": 2
   },
   "file_extension": ".py",
   "mimetype": "text/x-python",
   "name": "python",
   "nbconvert_exporter": "python",
   "pygments_lexer": "ipython2",
   "version": "2.7.11"
  }
 },
 "nbformat": 4,
 "nbformat_minor": 0
}
